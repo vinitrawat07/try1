{
 "cells": [
  {
   "cell_type": "code",
   "execution_count": 3,
   "id": "cd022f77-e4af-44e2-9580-41e9287c44ae",
   "metadata": {},
   "outputs": [
    {
     "name": "stdout",
     "output_type": "stream",
     "text": [
      "Predicted value for x=6: 5.800000000000001\n"
     ]
    }
   ],
   "source": [
    "from sklearn.linear_model import LinearRegression\n",
    "import numpy as np\n",
    "\n",
    "# Sample data\n",
    "X = np.array([[1], [2], [3], [4], [5]])  \n",
    "y = np.array([2, 4, 5, 4, 5])           \n",
    "\n",
    "model = LinearRegression()\n",
    "model.fit(X, y)\n",
    "\n",
    "# prediction\n",
    "prediction = model.predict([[6]])\n",
    "print(\"Predicted value for x=6:\", prediction[0])\n"
   ]
  },
  {
   "cell_type": "code",
   "execution_count": null,
   "id": "f5c9a0a8-53f8-4865-94a2-5c3b8433f7c9",
   "metadata": {},
   "outputs": [],
   "source": [
    "from sklearn.linear_model import LinearRegression\n",
    "from sklearn.metrics import accuracy_score\n",
    "from sklearn.model_selection import train_test_split\n",
    "import pandas as pd\n",
    "\n",
    "data = {'x': [1, 2, 3, 4, 5, 6, 7, 8],\n",
    "        'y': [0, 0, 0, 1, 1, 1, 1, 1]} \n",
    "df = pd.DataFrame(data)\n",
    "df.to_csv(\"file.csv\", index=False)\n",
    "\n",
    "df = pd.read_csv(\"file.csv\")\n",
    "x = df.iloc[:, :-1].values\n",
    "y = df.iloc[:, -1].values\n",
    "\n",
    "x_data = x.reshape(-1, 1)\n",
    "\n",
    "x_train, x_test, y_train, y_test = train_test_split(x_data, y, test_size=0.2, random_state=42)\n",
    "\n",
    "linear = LinearRegression()\n",
    "linear.fit(x_train, y_train)\n",
    "\n",
    "y_tr = linear.predict(x_test)\n",
    "\n",
    "print(\"Accuracy Score:\", accuracy_score(y_test, y_tr.round()))"
   ]
  }
 ],
 "metadata": {
  "kernelspec": {
   "display_name": "Python [conda env:base] *",
   "language": "python",
   "name": "conda-base-py"
  },
  "language_info": {
   "codemirror_mode": {
    "name": "ipython",
    "version": 3
   },
   "file_extension": ".py",
   "mimetype": "text/x-python",
   "name": "python",
   "nbconvert_exporter": "python",
   "pygments_lexer": "ipython3",
   "version": "3.12.7"
  }
 },
 "nbformat": 4,
 "nbformat_minor": 5
}
